{
 "cells": [
  {
   "cell_type": "code",
   "execution_count": 19,
   "metadata": {},
   "outputs": [],
   "source": [
    "# Import data\n",
    "import pandas as pd\n",
    "import numpy as np\n",
    "np.set_printoptions(suppress=True)\n",
    "transaction = pd.read_csv(\"https://s3.amazonaws.com/pernalonga/transaction_table.csv\",header=0)\n",
    "product = pd.read_csv(\"https://s3.amazonaws.com/pernalonga/product_table.csv\",header=0)"
   ]
  },
  {
   "cell_type": "code",
   "execution_count": 20,
   "metadata": {},
   "outputs": [],
   "source": [
    "# Delete wrong records and convert date to datetime object\n",
    "transaction=transaction[transaction['tran_prod_paid_amt']>0]\n",
    "transaction['tran_dt'] = pd.to_datetime(transaction['tran_dt'], format='%Y-%m-%d')\n",
    "# Just use 2017 reords to find substitute and complement\n",
    "transaction['year'] = transaction['tran_dt'].dt.year\n",
    "transaction=transaction[transaction['year']==2017]"
   ]
  },
  {
   "cell_type": "code",
   "execution_count": 22,
   "metadata": {},
   "outputs": [],
   "source": [
    "# Create a new column with new transaction_id\n",
    "transaction['id'] = transaction['tran_dt'].dt.strftime('%Y%m%d') + transaction['cust_id'].astype(str) \\\n",
    "+ transaction['store_id'].astype(str)"
   ]
  },
  {
   "cell_type": "code",
   "execution_count": 208,
   "metadata": {},
   "outputs": [
    {
     "data": {
      "text/html": [
       "<div>\n",
       "<style scoped>\n",
       "    .dataframe tbody tr th:only-of-type {\n",
       "        vertical-align: middle;\n",
       "    }\n",
       "\n",
       "    .dataframe tbody tr th {\n",
       "        vertical-align: top;\n",
       "    }\n",
       "\n",
       "    .dataframe thead th {\n",
       "        text-align: right;\n",
       "    }\n",
       "</style>\n",
       "<table border=\"1\" class=\"dataframe\">\n",
       "  <thead>\n",
       "    <tr style=\"text-align: right;\">\n",
       "      <th></th>\n",
       "      <th>cust_id</th>\n",
       "      <th>tran_id</th>\n",
       "      <th>tran_dt</th>\n",
       "      <th>store_id</th>\n",
       "      <th>prod_id</th>\n",
       "      <th>prod_unit</th>\n",
       "      <th>tran_prod_sale_amt</th>\n",
       "      <th>tran_prod_sale_qty</th>\n",
       "      <th>tran_prod_discount_amt</th>\n",
       "      <th>tran_prod_offer_cts</th>\n",
       "      <th>tran_prod_paid_amt</th>\n",
       "      <th>prod_unit_price</th>\n",
       "      <th>year</th>\n",
       "      <th>id</th>\n",
       "    </tr>\n",
       "  </thead>\n",
       "  <tbody>\n",
       "    <tr>\n",
       "      <th>0</th>\n",
       "      <td>139662</td>\n",
       "      <td>2.017110e+18</td>\n",
       "      <td>2017-11-03</td>\n",
       "      <td>584</td>\n",
       "      <td>145519008</td>\n",
       "      <td>CT</td>\n",
       "      <td>2.89</td>\n",
       "      <td>4.0</td>\n",
       "      <td>0.00</td>\n",
       "      <td>0</td>\n",
       "      <td>2.89</td>\n",
       "      <td>0.7225</td>\n",
       "      <td>2017</td>\n",
       "      <td>20171103139662584</td>\n",
       "    </tr>\n",
       "    <tr>\n",
       "      <th>1</th>\n",
       "      <td>799924</td>\n",
       "      <td>2.017111e+18</td>\n",
       "      <td>2017-11-12</td>\n",
       "      <td>349</td>\n",
       "      <td>145519008</td>\n",
       "      <td>CT</td>\n",
       "      <td>2.89</td>\n",
       "      <td>4.0</td>\n",
       "      <td>-1.45</td>\n",
       "      <td>1</td>\n",
       "      <td>1.44</td>\n",
       "      <td>0.7225</td>\n",
       "      <td>2017</td>\n",
       "      <td>20171112799924349</td>\n",
       "    </tr>\n",
       "    <tr>\n",
       "      <th>2</th>\n",
       "      <td>1399898</td>\n",
       "      <td>2.017102e+18</td>\n",
       "      <td>2017-10-21</td>\n",
       "      <td>684</td>\n",
       "      <td>145519008</td>\n",
       "      <td>CT</td>\n",
       "      <td>2.89</td>\n",
       "      <td>4.0</td>\n",
       "      <td>-1.45</td>\n",
       "      <td>1</td>\n",
       "      <td>1.44</td>\n",
       "      <td>0.7225</td>\n",
       "      <td>2017</td>\n",
       "      <td>201710211399898684</td>\n",
       "    </tr>\n",
       "    <tr>\n",
       "      <th>3</th>\n",
       "      <td>1399898</td>\n",
       "      <td>2.017111e+18</td>\n",
       "      <td>2017-11-11</td>\n",
       "      <td>684</td>\n",
       "      <td>145519008</td>\n",
       "      <td>CT</td>\n",
       "      <td>2.89</td>\n",
       "      <td>4.0</td>\n",
       "      <td>-1.45</td>\n",
       "      <td>1</td>\n",
       "      <td>1.44</td>\n",
       "      <td>0.7225</td>\n",
       "      <td>2017</td>\n",
       "      <td>201711111399898684</td>\n",
       "    </tr>\n",
       "    <tr>\n",
       "      <th>4</th>\n",
       "      <td>1399898</td>\n",
       "      <td>2.017121e+18</td>\n",
       "      <td>2017-12-05</td>\n",
       "      <td>684</td>\n",
       "      <td>145519008</td>\n",
       "      <td>CT</td>\n",
       "      <td>2.89</td>\n",
       "      <td>4.0</td>\n",
       "      <td>-1.45</td>\n",
       "      <td>1</td>\n",
       "      <td>1.44</td>\n",
       "      <td>0.7225</td>\n",
       "      <td>2017</td>\n",
       "      <td>201712051399898684</td>\n",
       "    </tr>\n",
       "  </tbody>\n",
       "</table>\n",
       "</div>"
      ],
      "text/plain": [
       "   cust_id       tran_id    tran_dt  store_id    prod_id prod_unit  \\\n",
       "0   139662  2.017110e+18 2017-11-03       584  145519008        CT   \n",
       "1   799924  2.017111e+18 2017-11-12       349  145519008        CT   \n",
       "2  1399898  2.017102e+18 2017-10-21       684  145519008        CT   \n",
       "3  1399898  2.017111e+18 2017-11-11       684  145519008        CT   \n",
       "4  1399898  2.017121e+18 2017-12-05       684  145519008        CT   \n",
       "\n",
       "   tran_prod_sale_amt  tran_prod_sale_qty  tran_prod_discount_amt  \\\n",
       "0                2.89                 4.0                    0.00   \n",
       "1                2.89                 4.0                   -1.45   \n",
       "2                2.89                 4.0                   -1.45   \n",
       "3                2.89                 4.0                   -1.45   \n",
       "4                2.89                 4.0                   -1.45   \n",
       "\n",
       "   tran_prod_offer_cts  tran_prod_paid_amt  prod_unit_price  year  \\\n",
       "0                    0                2.89           0.7225  2017   \n",
       "1                    1                1.44           0.7225  2017   \n",
       "2                    1                1.44           0.7225  2017   \n",
       "3                    1                1.44           0.7225  2017   \n",
       "4                    1                1.44           0.7225  2017   \n",
       "\n",
       "                   id  \n",
       "0   20171103139662584  \n",
       "1   20171112799924349  \n",
       "2  201710211399898684  \n",
       "3  201711111399898684  \n",
       "4  201712051399898684  "
      ]
     },
     "execution_count": 208,
     "metadata": {},
     "output_type": "execute_result"
    }
   ],
   "source": [
    "transaction.head()"
   ]
  },
  {
   "cell_type": "code",
   "execution_count": 209,
   "metadata": {},
   "outputs": [],
   "source": [
    "# Get cleaned data with unique transaction id and product id\n",
    "data=transaction.iloc[:,[13,4]]"
   ]
  },
  {
   "cell_type": "code",
   "execution_count": 210,
   "metadata": {},
   "outputs": [
    {
     "data": {
      "text/html": [
       "<div>\n",
       "<style scoped>\n",
       "    .dataframe tbody tr th:only-of-type {\n",
       "        vertical-align: middle;\n",
       "    }\n",
       "\n",
       "    .dataframe tbody tr th {\n",
       "        vertical-align: top;\n",
       "    }\n",
       "\n",
       "    .dataframe thead th {\n",
       "        text-align: right;\n",
       "    }\n",
       "</style>\n",
       "<table border=\"1\" class=\"dataframe\">\n",
       "  <thead>\n",
       "    <tr style=\"text-align: right;\">\n",
       "      <th></th>\n",
       "      <th>id</th>\n",
       "      <th>prod_id</th>\n",
       "    </tr>\n",
       "  </thead>\n",
       "  <tbody>\n",
       "    <tr>\n",
       "      <th>0</th>\n",
       "      <td>20171103139662584</td>\n",
       "      <td>145519008</td>\n",
       "    </tr>\n",
       "    <tr>\n",
       "      <th>1</th>\n",
       "      <td>20171112799924349</td>\n",
       "      <td>145519008</td>\n",
       "    </tr>\n",
       "    <tr>\n",
       "      <th>2</th>\n",
       "      <td>201710211399898684</td>\n",
       "      <td>145519008</td>\n",
       "    </tr>\n",
       "    <tr>\n",
       "      <th>3</th>\n",
       "      <td>201711111399898684</td>\n",
       "      <td>145519008</td>\n",
       "    </tr>\n",
       "    <tr>\n",
       "      <th>4</th>\n",
       "      <td>201712051399898684</td>\n",
       "      <td>145519008</td>\n",
       "    </tr>\n",
       "  </tbody>\n",
       "</table>\n",
       "</div>"
      ],
      "text/plain": [
       "                   id    prod_id\n",
       "0   20171103139662584  145519008\n",
       "1   20171112799924349  145519008\n",
       "2  201710211399898684  145519008\n",
       "3  201711111399898684  145519008\n",
       "4  201712051399898684  145519008"
      ]
     },
     "execution_count": 210,
     "metadata": {},
     "output_type": "execute_result"
    }
   ],
   "source": [
    "data.head()"
   ]
  },
  {
   "cell_type": "code",
   "execution_count": 211,
   "metadata": {},
   "outputs": [
    {
     "data": {
      "text/plain": [
       "15276448"
      ]
     },
     "execution_count": 211,
     "metadata": {},
     "output_type": "execute_result"
    }
   ],
   "source": [
    "# Number of transactions\n",
    "data.shape[0]"
   ]
  },
  {
   "cell_type": "code",
   "execution_count": 212,
   "metadata": {},
   "outputs": [
    {
     "data": {
      "text/plain": [
       "90.2324118429834"
      ]
     },
     "execution_count": 212,
     "metadata": {},
     "output_type": "execute_result"
    }
   ],
   "source": [
    "# Extract products which contribute 90% sales\n",
    "product2017_sales = transaction[['prod_id','tran_prod_paid_amt']].groupby('prod_id').sum().reset_index().\\\n",
    "sort_values('tran_prod_paid_amt',ascending=False)\n",
    "product2017_sales['percentage']=product2017_sales['tran_prod_paid_amt']/33202391.5*100\n",
    "product2017_sales['percentage'][0:4800].sum()"
   ]
  },
  {
   "cell_type": "code",
   "execution_count": 272,
   "metadata": {},
   "outputs": [],
   "source": [
    "# Prepare a new dataset for complement loop later\n",
    "com = pd.DataFrame(product2017_sales['prod_id'][0:4800])\n",
    "com['complement']=0"
   ]
  },
  {
   "cell_type": "code",
   "execution_count": null,
   "metadata": {},
   "outputs": [],
   "source": [
    "# Find the complement for product selected above, which should be bought together the most\n",
    "from collections import Counter\n",
    "productlist=list(product2017_sales['prod_id'][0:4800])\n",
    "i=0\n",
    "for prod_id in productlist:\n",
    "    tran = list(set(data[data['prod_id']==prod_id]['id']))\n",
    "    a = data[data['id'].isin(tran)]\n",
    "    b = a[a['prod_id']!=prod_id]\n",
    "    counts=Counter(list(b['prod_id']))\n",
    "    com.iloc[i,1]=counts.most_common(1)[0][0]\n",
    "    i=i+1"
   ]
  },
  {
   "cell_type": "code",
   "execution_count": 313,
   "metadata": {},
   "outputs": [],
   "source": [
    "# Output complement file\n",
    "com.to_csv('complement.csv')"
   ]
  }
 ],
 "metadata": {
  "kernelspec": {
   "display_name": "conda_python3",
   "language": "python",
   "name": "conda_python3"
  },
  "language_info": {
   "codemirror_mode": {
    "name": "ipython",
    "version": 3
   },
   "file_extension": ".py",
   "mimetype": "text/x-python",
   "name": "python",
   "nbconvert_exporter": "python",
   "pygments_lexer": "ipython3",
   "version": "3.6.5"
  }
 },
 "nbformat": 4,
 "nbformat_minor": 2
}
